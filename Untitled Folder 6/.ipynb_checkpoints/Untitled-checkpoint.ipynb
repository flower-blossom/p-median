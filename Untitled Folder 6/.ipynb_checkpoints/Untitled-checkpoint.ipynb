{
 "cells": [
  {
   "cell_type": "code",
   "execution_count": null,
   "id": "voluntary-mistake",
   "metadata": {},
   "outputs": [],
   "source": [
    "import random\n",
    "import numpy as np\n",
    "import networkx as nx\n",
    "from copy import deepcopy\n",
    "from itertools import combinations\n",
    "random.seed(3)\n",
    "np.random.seed(3)\n",
    "\n",
    "\n",
    "x = np.random.randint(0, 200, 121)\n",
    "y = np.random.randint(0, 200, 121)\n",
    "\n",
    "# Cal distance Matrix\n",
    "z = np.array([complex(x[i], y[i]) for i in range(x.size)])\n",
    "m, n = np.meshgrid(z, z)\n",
    "# get the distance via the norm\n",
    "distanceMatrix = abs(m-n)\n",
    "print(distanceMatrix)"
   ]
  },
  {
   "cell_type": "code",
   "execution_count": null,
   "id": "acknowledged-laptop",
   "metadata": {},
   "outputs": [],
   "source": [
    "import copy\n",
    "import matplotlib.pyplot as plt\n",
    "import networkx as nx\n",
    "import numpy as np\n",
    "import numpy.random as rnd\n",
    "import tsplib95\n",
    "import tsplib95.distances as distances\n",
    "\n",
    "from alns import ALNS, State\n",
    "from alns.accept import HillClimbing\n",
    "from alns.select import RouletteWheel\n",
    "from alns.stop import MaxRuntime"
   ]
  },
  {
   "cell_type": "code",
   "execution_count": null,
   "id": "forbidden-bronze",
   "metadata": {},
   "outputs": [],
   "source": [
    "%matplotlib inline\n"
   ]
  },
  {
   "cell_type": "code",
   "execution_count": null,
   "id": "aerial-desert",
   "metadata": {},
   "outputs": [],
   "source": [
    "SEED = 7654\n"
   ]
  },
  {
   "cell_type": "markdown",
   "id": "expected-christianity",
   "metadata": {},
   "source": [
    "# Matrix"
   ]
  },
  {
   "cell_type": "code",
   "execution_count": null,
   "id": "defined-transcription",
   "metadata": {},
   "outputs": [],
   "source": []
  },
  {
   "cell_type": "code",
   "execution_count": null,
   "id": "qualified-tuner",
   "metadata": {},
   "outputs": [],
   "source": [
    "from itertools import combinations\n",
    "import numpy as np\n",
    "import networkx as nx\n",
    "from copy import deepcopy\n",
    "\n",
    "\n",
    "def findRadiusPoint(cluster, distanceMatrix):\n",
    "    # minPoint = min(cluster, key=lambda point: distanceMatrix[storehouse, point])\n",
    "    # return distanceMatrix[minPoint, storehouse]\n",
    "    maxDistance = 0\n",
    "    points = []\n",
    "    for pairOfPoint in combinations(cluster, 2):\n",
    "\n",
    "        distance = distanceMatrix[pairOfPoint[0],\n",
    "                                  pairOfPoint[1]]\n",
    "        if maxDistance < distance:\n",
    "            maxDistance = distance\n",
    "            points = pairOfPoint\n",
    "    return points\n",
    "\n",
    "\n",
    "def findMax(cluster, distanceMatrix):\n",
    "    maxDistance = 0\n",
    "    for pairOfPoint in combinations(cluster, 2):\n",
    "        distance = distanceMatrix[pairOfPoint[0],\n",
    "                                  pairOfPoint[1]]\n",
    "        if maxDistance < distance:\n",
    "            maxDistance = distance\n",
    "    return maxDistance\n",
    "\n",
    "\n",
    "def getRadius(clusterList, distanceMatrix):\n",
    "    radiusList = []\n",
    "    for cluster in clusterList:\n",
    "        radiusList.append(findMax(cluster, distanceMatrix))\n",
    "    return radiusList\n",
    "\n",
    "\n",
    "def getInfo(cluster, weightClusterSolution, weightOfVehicle, distanceMatrix):\n",
    "    info = []\n",
    "    storehouse = len(distanceMatrix) - 1\n",
    "    info.append(weightClusterSolution)\n",
    "    info.append(weightOfVehicle)\n",
    "    info.append(findMax(cluster, distanceMatrix))\n",
    "    info.append(MST(cluster, distanceMatrix))\n",
    "    info.append(minDisPointToCluster(storehouse, cluster, distanceMatrix))\n",
    "    return info\n",
    "\n",
    "def MST(points, distanceMatrix):\n",
    "    # find MST by Prim\n",
    "    cost = 0\n",
    "    candidatePoint = points.copy()\n",
    "    n = len(points)\n",
    "    selected_vertices = set([candidatePoint.pop(0)])\n",
    "    mst = []  \n",
    "    while len(selected_vertices) < n:\n",
    "        candidate_edges = []\n",
    "        for vertex in selected_vertices:\n",
    "            for point in candidatePoint:\n",
    "                if point not in selected_vertices:\n",
    "                    candidate_edges.append((vertex, point, distanceMatrix[vertex][point]))\n",
    "\n",
    "        min_edge = min(candidate_edges, key=lambda x: x[2])\n",
    "        candidatePoint.remove(min_edge[1])\n",
    "        selected_vertices.add(min_edge[1])\n",
    "        mst.append(min_edge)\n",
    "        cost += min_edge[2]\n",
    "    return cost\n",
    "   \n",
    "\n",
    "def minDisPointToCluster(point, cluster, distanceMatrix):\n",
    "    minPoint = min(\n",
    "        cluster, key=lambda point: distanceMatrix[point, point])\n",
    "    return distanceMatrix[minPoint, point]\n",
    "\n",
    "def getCost(cluster):\n",
    "    return cluster[0] * cluster[1] * cluster[2] * (cluster[3] + cluster[4])\n",
    "\n",
    "\n",
    "def costFuction(infoClusters):\n",
    "    totalCost = 0\n",
    "    for cluster in infoClusters:\n",
    "        totalCost += getCost(cluster)\n",
    "    return totalCost\n",
    "\n",
    "\n",
    "class Solution:\n",
    "    \"\"\"\n",
    "    Contains a list of customers, weight list and distance matrix \n",
    "    \"\"\"\n",
    "    # costFuction = weightCluster*weightOfVehicle*radius*(MST + distanceToStorehouse)\n",
    "    # [{weightCluster: 0}, {weightOfVehicle: 1}, {radius: 2}, {MST: 3}, {distanceToStorehouse: 4}]\n",
    "\n",
    "    def __init__(self, solutionList, weightClusterSolution, distanceMatrix, dataModel):\n",
    "        self.dataModel = dataModel\n",
    "        self.solutionList = solutionList\n",
    "        self.infoClusters = [getInfo(solutionList[idxCluster],\n",
    "                                     weightClusterSolution[idxCluster],\n",
    "                                     dataModel.weightOfVehicle[idxCluster],\n",
    "                                     distanceMatrix)\n",
    "                             for idxCluster in range(len(solutionList))]\n",
    "#         self.costFuction = costFuction(self.infoClusters)\n",
    "\n",
    "    def objective(self):\n",
    "        return costFuction(self.infoClusters)\n",
    "    def __copy__(self):\n",
    "        return self.__class__(deepcopy(self.solutionList), self.weightClusterSolution,\n",
    "                              self.distanceMatrix)\n"
   ]
  },
  {
   "cell_type": "code",
   "execution_count": null,
   "id": "stock-zimbabwe",
   "metadata": {},
   "outputs": [],
   "source": [
    "class DataModel:\n",
    "    '''Contains a list of customers and dataDescription'''\n",
    "    def __init__(self, weightCluster, weightOfPoints, weightOfVehicle):\n",
    "        self.weightCluster = weightCluster\n",
    "        self.weightOfPoints = weightOfPoints\n",
    "        self.weightOfVehicle = weightOfVehicle"
   ]
  },
  {
   "cell_type": "markdown",
   "id": "dimensional-orlando",
   "metadata": {},
   "source": [
    "## Initial State"
   ]
  },
  {
   "cell_type": "code",
   "execution_count": null,
   "id": "cardiac-strap",
   "metadata": {},
   "outputs": [],
   "source": []
  },
  {
   "cell_type": "code",
   "execution_count": null,
   "id": "commercial-favorite",
   "metadata": {},
   "outputs": [],
   "source": [
    "DEGREE_OF_DESTRUCTION = 0.1"
   ]
  },
  {
   "cell_type": "markdown",
   "id": "moved-magnitude",
   "metadata": {},
   "source": [
    "## Destroy operators"
   ]
  },
  {
   "cell_type": "code",
   "execution_count": null,
   "id": "mature-mixture",
   "metadata": {},
   "outputs": [],
   "source": [
    "class Solution:\n",
    "\n"
   ]
  },
  {
   "cell_type": "code",
   "execution_count": null,
   "id": "strong-awareness",
   "metadata": {},
   "outputs": [],
   "source": [
    "a = [[102, 4, 12.041594578792296], [102, 0, 100.42410069301094], [4, 0, 107.5174404457249]]\n",
    "d, b, c = a[1]\n",
    "print(d)"
   ]
  },
  {
   "cell_type": "code",
   "execution_count": 1,
   "id": "orange-nebraska",
   "metadata": {},
   "outputs": [
    {
     "name": "stdout",
     "output_type": "stream",
     "text": [
      "[[  0.         189.66285878 164.90603385]\n",
      " [189.66285878   0.          29.69848481]\n",
      " [164.90603385  29.69848481   0.        ]]\n"
     ]
    }
   ],
   "source": [
    "import random\n",
    "import numpy as np\n",
    "import networkx as nx\n",
    "from copy import deepcopy\n",
    "from itertools import combinations\n",
    "random.seed(3)\n",
    "np.random.seed(3)\n",
    "\n",
    "\n",
    "x = np.random.randint(0, 200, 3)\n",
    "y = np.random.randint(0, 200, 3)\n",
    "\n",
    "# Cal distance Matrix\n",
    "z = np.array([complex(x[i], y[i]) for i in range(x.size)])\n",
    "m, n = np.meshgrid(z, z)\n",
    "# get the distance via the norm\n",
    "distanceMatrix = abs(m-n)\n",
    "print(distanceMatrix)"
   ]
  },
  {
   "cell_type": "code",
   "execution_count": 84,
   "id": "neither-chester",
   "metadata": {
    "scrolled": true
   },
   "outputs": [
    {
     "name": "stdout",
     "output_type": "stream",
     "text": [
      "[  0.         189.66285878 164.90603385 189.66285878   0.\n",
      "  29.69848481 164.90603385  29.69848481   0.        ]\n",
      "[0 4 8 5 7 2 6 1 3]\n"
     ]
    },
    {
     "ename": "IndexError",
     "evalue": "index 2 is out of bounds for axis 0 with size 2",
     "output_type": "error",
     "traceback": [
      "\u001b[1;31m---------------------------------------------------------------------------\u001b[0m",
      "\u001b[1;31mIndexError\u001b[0m                                Traceback (most recent call last)",
      "\u001b[1;32m<ipython-input-84-b5663dc3b221>\u001b[0m in \u001b[0;36m<module>\u001b[1;34m\u001b[0m\n\u001b[0;32m     33\u001b[0m     \u001b[1;32mreturn\u001b[0m \u001b[0mmst\u001b[0m\u001b[1;33m,\u001b[0m \u001b[0mdistance\u001b[0m\u001b[1;33m\u001b[0m\u001b[1;33m\u001b[0m\u001b[0m\n\u001b[0;32m     34\u001b[0m \u001b[0mprint\u001b[0m\u001b[1;33m(\u001b[0m\u001b[0mdistanceMatrix\u001b[0m\u001b[1;33m.\u001b[0m\u001b[0mflatten\u001b[0m\u001b[1;33m(\u001b[0m\u001b[1;33m)\u001b[0m\u001b[1;33m)\u001b[0m\u001b[1;33m\u001b[0m\u001b[1;33m\u001b[0m\u001b[0m\n\u001b[1;32m---> 35\u001b[1;33m \u001b[0ma\u001b[0m\u001b[1;33m,\u001b[0m \u001b[0mb\u001b[0m \u001b[1;33m=\u001b[0m \u001b[0mkruskal\u001b[0m\u001b[1;33m(\u001b[0m\u001b[1;33m[\u001b[0m\u001b[1;36m0\u001b[0m\u001b[1;33m,\u001b[0m \u001b[1;36m1\u001b[0m\u001b[1;33m]\u001b[0m\u001b[1;33m,\u001b[0m \u001b[0mdistanceMatrix\u001b[0m\u001b[1;33m)\u001b[0m\u001b[1;33m\u001b[0m\u001b[1;33m\u001b[0m\u001b[0m\n\u001b[0m\u001b[0;32m     36\u001b[0m \u001b[0mprint\u001b[0m\u001b[1;33m(\u001b[0m\u001b[0ma\u001b[0m\u001b[1;33m)\u001b[0m\u001b[1;33m\u001b[0m\u001b[1;33m\u001b[0m\u001b[0m\n\u001b[0;32m     37\u001b[0m \u001b[0mprint\u001b[0m\u001b[1;33m(\u001b[0m\u001b[0mb\u001b[0m\u001b[1;33m)\u001b[0m\u001b[1;33m\u001b[0m\u001b[1;33m\u001b[0m\u001b[0m\n",
      "\u001b[1;32m<ipython-input-84-b5663dc3b221>\u001b[0m in \u001b[0;36mkruskal\u001b[1;34m(points, distances)\u001b[0m\n\u001b[0;32m     27\u001b[0m         \u001b[0mi\u001b[0m\u001b[1;33m,\u001b[0m \u001b[0mj\u001b[0m \u001b[1;33m=\u001b[0m \u001b[0mnp\u001b[0m\u001b[1;33m.\u001b[0m\u001b[0munravel_index\u001b[0m\u001b[1;33m(\u001b[0m\u001b[0medge\u001b[0m\u001b[1;33m,\u001b[0m \u001b[0mdistances\u001b[0m\u001b[1;33m.\u001b[0m\u001b[0mshape\u001b[0m\u001b[1;33m)\u001b[0m\u001b[1;33m\u001b[0m\u001b[1;33m\u001b[0m\u001b[0m\n\u001b[0;32m     28\u001b[0m \u001b[1;33m\u001b[0m\u001b[0m\n\u001b[1;32m---> 29\u001b[1;33m         \u001b[1;32mif\u001b[0m \u001b[0mfind\u001b[0m\u001b[1;33m(\u001b[0m\u001b[0mparent\u001b[0m\u001b[1;33m,\u001b[0m \u001b[0mi\u001b[0m\u001b[1;33m)\u001b[0m \u001b[1;33m!=\u001b[0m \u001b[0mfind\u001b[0m\u001b[1;33m(\u001b[0m\u001b[0mparent\u001b[0m\u001b[1;33m,\u001b[0m \u001b[0mj\u001b[0m\u001b[1;33m)\u001b[0m\u001b[1;33m:\u001b[0m\u001b[1;33m\u001b[0m\u001b[1;33m\u001b[0m\u001b[0m\n\u001b[0m\u001b[0;32m     30\u001b[0m             \u001b[0munion\u001b[0m\u001b[1;33m(\u001b[0m\u001b[0mparent\u001b[0m\u001b[1;33m,\u001b[0m \u001b[0mrank\u001b[0m\u001b[1;33m,\u001b[0m \u001b[0mi\u001b[0m\u001b[1;33m,\u001b[0m \u001b[0mj\u001b[0m\u001b[1;33m)\u001b[0m\u001b[1;33m\u001b[0m\u001b[1;33m\u001b[0m\u001b[0m\n\u001b[0;32m     31\u001b[0m             \u001b[0mmst\u001b[0m\u001b[1;33m.\u001b[0m\u001b[0mappend\u001b[0m\u001b[1;33m(\u001b[0m\u001b[1;33m(\u001b[0m\u001b[0mpoints\u001b[0m\u001b[1;33m[\u001b[0m\u001b[0mi\u001b[0m\u001b[1;33m]\u001b[0m\u001b[1;33m,\u001b[0m \u001b[0mpoints\u001b[0m\u001b[1;33m[\u001b[0m\u001b[0mj\u001b[0m\u001b[1;33m]\u001b[0m\u001b[1;33m)\u001b[0m\u001b[1;33m)\u001b[0m\u001b[1;33m\u001b[0m\u001b[1;33m\u001b[0m\u001b[0m\n",
      "\u001b[1;32m<ipython-input-84-b5663dc3b221>\u001b[0m in \u001b[0;36mfind\u001b[1;34m(parent, i)\u001b[0m\n\u001b[0;32m      1\u001b[0m \u001b[1;32mdef\u001b[0m \u001b[0mfind\u001b[0m\u001b[1;33m(\u001b[0m\u001b[0mparent\u001b[0m\u001b[1;33m,\u001b[0m \u001b[0mi\u001b[0m\u001b[1;33m)\u001b[0m\u001b[1;33m:\u001b[0m\u001b[1;33m\u001b[0m\u001b[1;33m\u001b[0m\u001b[0m\n\u001b[1;32m----> 2\u001b[1;33m     \u001b[1;32mif\u001b[0m \u001b[0mparent\u001b[0m\u001b[1;33m[\u001b[0m\u001b[0mi\u001b[0m\u001b[1;33m]\u001b[0m \u001b[1;33m==\u001b[0m \u001b[0mi\u001b[0m\u001b[1;33m:\u001b[0m\u001b[1;33m\u001b[0m\u001b[1;33m\u001b[0m\u001b[0m\n\u001b[0m\u001b[0;32m      3\u001b[0m         \u001b[1;32mreturn\u001b[0m \u001b[0mi\u001b[0m\u001b[1;33m\u001b[0m\u001b[1;33m\u001b[0m\u001b[0m\n\u001b[0;32m      4\u001b[0m     \u001b[1;32mreturn\u001b[0m \u001b[0mfind\u001b[0m\u001b[1;33m(\u001b[0m\u001b[0mparent\u001b[0m\u001b[1;33m,\u001b[0m \u001b[0mparent\u001b[0m\u001b[1;33m[\u001b[0m\u001b[0mi\u001b[0m\u001b[1;33m]\u001b[0m\u001b[1;33m)\u001b[0m\u001b[1;33m\u001b[0m\u001b[1;33m\u001b[0m\u001b[0m\n\u001b[0;32m      5\u001b[0m \u001b[1;33m\u001b[0m\u001b[0m\n",
      "\u001b[1;31mIndexError\u001b[0m: index 2 is out of bounds for axis 0 with size 2"
     ]
    }
   ],
   "source": [
    "def find(parent, i):\n",
    "    if parent[i] == i:\n",
    "        return i\n",
    "    return find(parent, parent[i])\n",
    "\n",
    "def union(parent, rank, x, y):\n",
    "    xroot = find(parent, x)\n",
    "    yroot = find(parent, y)\n",
    "    if rank[xroot] < rank[yroot]:\n",
    "        parent[xroot] = yroot\n",
    "    elif rank[xroot] > rank[yroot]:\n",
    "        parent[yroot] = xroot\n",
    "    else:\n",
    "        parent[yroot] = xroot\n",
    "        rank[xroot] += 1\n",
    "\n",
    "def kruskal(points, distances):\n",
    "    distance = 0\n",
    "    num_points = len(points)\n",
    "    \n",
    "    parent = np.arange(num_points)\n",
    "    rank = np.zeros(num_points, dtype=int)\n",
    "    sorted_edges = np.argsort(distances.flatten())\n",
    "    print(sorted_edges)\n",
    "    mst = []\n",
    "    for edge in sorted_edges:\n",
    "        i, j = np.unravel_index(edge, distances.shape)\n",
    "        \n",
    "        if find(parent, i) != find(parent, j):\n",
    "            union(parent, rank, i, j)\n",
    "            mst.append((points[i], points[j]))\n",
    "            distance += distances[i, j]\n",
    "    return mst, distance\n",
    "print(distanceMatrix.flatten())\n",
    "a, b = kruskal([0, 1], distanceMatrix)\n",
    "print(a)\n",
    "print(b)\n"
   ]
  },
  {
   "cell_type": "code",
   "execution_count": 119,
   "id": "variable-elevation",
   "metadata": {},
   "outputs": [
    {
     "name": "stdout",
     "output_type": "stream",
     "text": [
      "[(2, 1, 29.698484809834994), (2, 0, 164.90603384958357)]\n",
      "194.60451865941855\n"
     ]
    }
   ],
   "source": [
    "def prim(points, distanceMatrix):\n",
    "    cost = 0\n",
    "    candidatePoint = points.copy()\n",
    "    n = len(point)\n",
    "    selected_vertices = set([candidatePoint.pop(0)])\n",
    "    mst = []  \n",
    "    while len(selected_vertices) < n:\n",
    "        candidate_edges = []\n",
    "        for vertex in selected_vertices:\n",
    "            for j in candidatePoint:\n",
    "                if j not in selected_vertices:\n",
    "                    candidate_edges.append((vertex, j, graph[vertex][j]))\n",
    "        # Chọn cạnh có trọng số nhỏ nhất từ danh sách cạnh có thể thêm vào cây khung\n",
    "        min_edge = min(candidate_edges, key=lambda x: x[2])\n",
    "        candidatePoint.remove(min_edge[1])\n",
    "        selected_vertices.add(min_edge[1])\n",
    "        mst.append(min_edge)\n",
    "        cost += min_edge[2]\n",
    "    return mst, cost\n",
    "\n",
    "a, b = prim([2, 1, 0], distanceMatrix)\n",
    "print(a)\n",
    "print(b)\n"
   ]
  },
  {
   "cell_type": "code",
   "execution_count": 95,
   "id": "documented-carry",
   "metadata": {},
   "outputs": [
    {
     "name": "stdout",
     "output_type": "stream",
     "text": [
      "[[  0.         189.66285878 164.90603385]\n",
      " [189.66285878   0.          29.69848481]\n",
      " [164.90603385  29.69848481   0.        ]]\n",
      "[(2, 0)]\n"
     ]
    }
   ],
   "source": [
    "\n",
    "def MST(cluster, distanceMatrix):\n",
    "    G = nx.Graph()\n",
    "    for i in range(len(cluster)):\n",
    "        firstPoint = cluster[i]\n",
    "        G.add_node(firstPoint)\n",
    "        for j in range(i+1, len(cluster)):\n",
    "            secondPoint = cluster[j]\n",
    "            G.add_edge(firstPoint, secondPoint,\n",
    "                       weight=distanceMatrix[firstPoint][secondPoint])\n",
    "    MST = nx.minimum_spanning_tree(G)\n",
    "\n",
    "    length = sum([MST[u][v]['weight'] for u, v in MST.edges()])\n",
    "\n",
    "    return MST.edges()\n",
    "print(distanceMatrix)\n",
    "a = MST([2, 0], distanceMatrix)\n",
    "print(a)"
   ]
  }
 ],
 "metadata": {
  "kernelspec": {
   "display_name": "Python 3",
   "language": "python",
   "name": "python3"
  },
  "language_info": {
   "codemirror_mode": {
    "name": "ipython",
    "version": 3
   },
   "file_extension": ".py",
   "mimetype": "text/x-python",
   "name": "python",
   "nbconvert_exporter": "python",
   "pygments_lexer": "ipython3",
   "version": "3.7.10"
  }
 },
 "nbformat": 4,
 "nbformat_minor": 5
}
