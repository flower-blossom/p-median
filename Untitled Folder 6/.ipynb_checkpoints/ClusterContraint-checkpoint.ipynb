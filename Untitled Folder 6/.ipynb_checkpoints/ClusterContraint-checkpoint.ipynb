{
 "cells": [
  {
   "cell_type": "markdown",
   "id": "front-carry",
   "metadata": {},
   "source": [
    "# from pathlib import Path\n",
    "import numpy as np\n",
    "\n",
    "def readDistanceMatrix(problemName, distanceMatricesFolder):\n",
    "    \"\"\"\n",
    "    Read distance matrix from a txt file\n",
    "    \"\"\"\n",
    "    distanceMatricesFolder = Path(distanceMatricesFolder)\n",
    "    fileName = f'{problemName}.matrix.tsp'\n",
    "\n",
    "    # Navigate to distanceMatrices file\n",
    "    distanceMatrixPath = distanceMatricesFolder / fileName\n",
    "\n",
    "    distanceMatrix = np.loadtxt(distanceMatrixPath, dtype=int)\n",
    "    return distanceMatrix\n",
    "\n",
    "\n",
    "    \n",
    " "
   ]
  },
  {
   "cell_type": "code",
   "execution_count": 2,
   "id": "proud-blackberry",
   "metadata": {
    "scrolled": true
   },
   "outputs": [],
   "source": [
    "# example: distanceMatricesFolder = \"D:\\Học\\Thiết kế và đánh giá thuật toán\\p-median\\distanceMatrices\"\n",
    "distanceMatricesFolder = \"D:\\\\Hoc\\\\thuc tap\\\\cluster\\\\distanceMatrices\"\n",
    "problemName = \"gr120\"\n",
    "distanceMatrix = readDistanceMatrix(problemName, distanceMatricesFolder)  "
   ]
  },
  {
   "cell_type": "code",
   "execution_count": 3,
   "id": "involved-kingston",
   "metadata": {},
   "outputs": [],
   "source": [
    "from itertools import combinations\n",
    "\n",
    "\n",
    "def findMax(cluster, distanceMatrix):\n",
    "    maxDistance = 0\n",
    "    for pairOfPoint in combinations(cluster, 2):\n",
    "        distance = distanceMatrix[pairOfPoint[0],\n",
    "                                  pairOfPoint[1]]\n",
    "        if maxDistance < distance:\n",
    "            maxDistance = distance\n",
    "    return maxDistance\n",
    "\n",
    "\n",
    "def getTotalDistance(clusterList, distanceMatrix):\n",
    "    sumRadius = 0\n",
    "    for cluster in clusterList:\n",
    "        sumRadius += findMax(cluster, distanceMatrix)\n",
    "    return sumRadius\n",
    "\n",
    "\n",
    "class Solution:\n",
    "    \"\"\"\n",
    "    Contains a list of customers, weight list and distance matrix \n",
    "    \"\"\"\n",
    "\n",
    "    def __init__(self, solutionList, distanceMatrix, weightPointArr, weightClusterArr):\n",
    "        self.weightPointArr = weightPointArr\n",
    "        self.solutionList = solutionList\n",
    "        self.weightClusterArr = weightClusterArr\n",
    "        self.distanceMatrix = distanceMatrix\n",
    "        self.totalDistance = getTotalDistance(\n",
    "            self.solutionList, self.distanceMatrix)\n",
    "\n",
    "    def __copy__(self):\n",
    "        return self.__class__(self.solutionList.copy(), self.distanceMatrix)\n"
   ]
  },
  {
   "cell_type": "code",
   "execution_count": 12,
   "id": "reasonable-portsmouth",
   "metadata": {},
   "outputs": [
    {
     "name": "stdout",
     "output_type": "stream",
     "text": [
      "[[], [], [], [], [], [], [], [], [], []]\n",
      "[0, 0, 0, 0, 0, 0, 0, 0, 0, 0]\n"
     ]
    },
    {
     "ename": "NameError",
     "evalue": "name 'randint' is not defined",
     "output_type": "error",
     "traceback": [
      "\u001b[1;31m---------------------------------------------------------------------------\u001b[0m",
      "\u001b[1;31mNameError\u001b[0m                                 Traceback (most recent call last)",
      "\u001b[1;32m<ipython-input-12-09945340566a>\u001b[0m in \u001b[0;36m<module>\u001b[1;34m\u001b[0m\n\u001b[0;32m      9\u001b[0m \u001b[0mminWeight\u001b[0m \u001b[1;33m=\u001b[0m \u001b[1;36m1\u001b[0m\u001b[1;33m\u001b[0m\u001b[1;33m\u001b[0m\u001b[0m\n\u001b[0;32m     10\u001b[0m \u001b[0mmaxWeight\u001b[0m \u001b[1;33m=\u001b[0m \u001b[1;36m3\u001b[0m\u001b[1;33m\u001b[0m\u001b[1;33m\u001b[0m\u001b[0m\n\u001b[1;32m---> 11\u001b[1;33m \u001b[0mweightOfPoints\u001b[0m \u001b[1;33m=\u001b[0m \u001b[1;33m[\u001b[0m\u001b[0mrandint\u001b[0m\u001b[1;33m(\u001b[0m\u001b[0mminWeight\u001b[0m\u001b[1;33m,\u001b[0m \u001b[0mmaxWeight\u001b[0m\u001b[1;33m)\u001b[0m \u001b[1;32mfor\u001b[0m \u001b[0mi\u001b[0m \u001b[1;32min\u001b[0m \u001b[0mrange\u001b[0m\u001b[1;33m(\u001b[0m\u001b[0mlen\u001b[0m\u001b[1;33m(\u001b[0m\u001b[0mdistanceMatrix\u001b[0m\u001b[1;33m)\u001b[0m\u001b[1;33m)\u001b[0m\u001b[1;33m]\u001b[0m\u001b[1;33m\u001b[0m\u001b[1;33m\u001b[0m\u001b[0m\n\u001b[0m\u001b[0;32m     12\u001b[0m \u001b[0mprint\u001b[0m\u001b[1;33m(\u001b[0m\u001b[0mweightPointArr\u001b[0m\u001b[1;33m)\u001b[0m\u001b[1;33m\u001b[0m\u001b[1;33m\u001b[0m\u001b[0m\n",
      "\u001b[1;32m<ipython-input-12-09945340566a>\u001b[0m in \u001b[0;36m<listcomp>\u001b[1;34m(.0)\u001b[0m\n\u001b[0;32m      9\u001b[0m \u001b[0mminWeight\u001b[0m \u001b[1;33m=\u001b[0m \u001b[1;36m1\u001b[0m\u001b[1;33m\u001b[0m\u001b[1;33m\u001b[0m\u001b[0m\n\u001b[0;32m     10\u001b[0m \u001b[0mmaxWeight\u001b[0m \u001b[1;33m=\u001b[0m \u001b[1;36m3\u001b[0m\u001b[1;33m\u001b[0m\u001b[1;33m\u001b[0m\u001b[0m\n\u001b[1;32m---> 11\u001b[1;33m \u001b[0mweightOfPoints\u001b[0m \u001b[1;33m=\u001b[0m \u001b[1;33m[\u001b[0m\u001b[0mrandint\u001b[0m\u001b[1;33m(\u001b[0m\u001b[0mminWeight\u001b[0m\u001b[1;33m,\u001b[0m \u001b[0mmaxWeight\u001b[0m\u001b[1;33m)\u001b[0m \u001b[1;32mfor\u001b[0m \u001b[0mi\u001b[0m \u001b[1;32min\u001b[0m \u001b[0mrange\u001b[0m\u001b[1;33m(\u001b[0m\u001b[0mlen\u001b[0m\u001b[1;33m(\u001b[0m\u001b[0mdistanceMatrix\u001b[0m\u001b[1;33m)\u001b[0m\u001b[1;33m)\u001b[0m\u001b[1;33m]\u001b[0m\u001b[1;33m\u001b[0m\u001b[1;33m\u001b[0m\u001b[0m\n\u001b[0m\u001b[0;32m     12\u001b[0m \u001b[0mprint\u001b[0m\u001b[1;33m(\u001b[0m\u001b[0mweightPointArr\u001b[0m\u001b[1;33m)\u001b[0m\u001b[1;33m\u001b[0m\u001b[1;33m\u001b[0m\u001b[0m\n",
      "\u001b[1;31mNameError\u001b[0m: name 'randint' is not defined"
     ]
    }
   ],
   "source": [
    "weightCluster = [30, 30, 30, 30, 20, 20, 20, 40, 40, 40]\n",
    "clustersList = []\n",
    "currentWeight = []\n",
    "for clusterArr in range(len(weightCluster)):\n",
    "    clustersList.append([])\n",
    "    currentWeight.append(0)\n",
    "print(clustersList)\n",
    "print(currentWeight)\n",
    "minWeight = 1\n",
    "maxWeight = 3\n",
    "weightOfPoints = [randint(minWeight, maxWeight) for i in range(len(distanceMatrix))]\n",
    "print(weightPointArr)\n"
   ]
  },
  {
   "cell_type": "code",
   "execution_count": null,
   "id": "detailed-challenge",
   "metadata": {},
   "outputs": [],
   "source": [
    "def calDistance(point, clusterList, distanceMatrix):\n",
    "    maxDistance = 0\n",
    "    for secondPoint in clusterList:\n",
    "        distance = distanceMatrix[point,\n",
    "                      secondPoint]\n",
    "        if maxDistance < distance:\n",
    "            maxDistance = distance\n",
    "    return maxDistance\n",
    "# def greedy(distanceMatrix, weightList, weightCluster):\n",
    "\n",
    "print(sum(weightCluster))\n",
    "\n",
    "def findNextPoint(candidatePointList, clustersList, distanceMatrix, weightCluster, currentWeight):\n",
    "    \n",
    "    return point, numberOfCluster\n",
    "\n",
    "clustersList = []\n",
    "for clusterArr in range(len(weightCluster)):\n",
    "    clustersList.append([])\n",
    "numberOfPoint = len(distanceMatrix)\n",
    "candidateList = [i for i in range(numberOfPoint)]\n",
    "firstPoint = candidateList.pop(randint(1, numberOfPoint))\n",
    "clustersList[0].append(firstPoint)\n",
    "while weightCluster:\n",
    "    point = weightCluster.pop(0)\n",
    "    distanceList = [calDistance() for]\n",
    "print(clustersList)\n"
   ]
  },
  {
   "cell_type": "code",
   "execution_count": null,
   "id": "automatic-glucose",
   "metadata": {},
   "outputs": [],
   "source": [
    "from random import randint\n",
    "# print(len(distanceMatrix))\n",
    "\n",
    "\n",
    "def calDistance(point, clusterList, distanceMatrix):\n",
    "    maxDistance = 0\n",
    "    for secondPoint in clusterList:\n",
    "        distance = distanceMatrix[point,\n",
    "                      secondPoint]\n",
    "        if maxDistance < distance:\n",
    "            maxDistance = distance\n",
    "    return maxDistance\n",
    "# def greedy(distanceMatrix, weightList, weightCluster):\n",
    "weightCluster = [30, 30, 30, 30, 20, 20, 20, 40, 40, 40]\n",
    "print(sum(weightCluster))\n",
    "\n",
    "def findNextPoint(candidatePointList, clustersList, distanceMatrix, currentCluster ,weightCluster, weightPointArr):\n",
    "    \n",
    "    return point, numberOfCluster\n",
    "\n",
    "clustersList = []\n",
    "for clusterArr in range(len(weightCluster)):\n",
    "    clustersList.append([])\n",
    "numberOfPoint = len(distanceMatrix)\n",
    "candidateList = [i for i in range(numberOfPoint)]\n",
    "firstPoint = candidateList.pop(randint(1, numberOfPoint))\n",
    "clustersList[0].append(firstPoint)\n",
    "while weightCluster:\n",
    "    point = weightCluster.pop(0)\n",
    "    distanceList = [calDistance() for]\n",
    "print(clustersList)\n"
   ]
  },
  {
   "cell_type": "code",
   "execution_count": 3,
   "id": "acute-gabriel",
   "metadata": {},
   "outputs": [
    {
     "name": "stdout",
     "output_type": "stream",
     "text": [
      "[1, 2, 3, 4]\n"
     ]
    }
   ],
   "source": [
    "class Solution:\n",
    "    \"\"\"\n",
    "    Contains a list of customers, weight list and distance matrix \n",
    "    \"\"\"\n",
    "\n",
    "    def __init__(self, solutionList):\n",
    "        self.solutionList = solutionList\n",
    "\n",
    "solutionList = [1,2 ,3]        \n",
    "a = Solution(solutionList)\n",
    "b = a.solutionList\n",
    "b.append(4)\n",
    "print(a.solutionList)"
   ]
  },
  {
   "cell_type": "markdown",
   "id": "retained-serial",
   "metadata": {},
   "source": [
    "# while True:\n",
    "    print(2)"
   ]
  },
  {
   "cell_type": "code",
   "execution_count": 1,
   "id": "minus-mechanism",
   "metadata": {},
   "outputs": [
    {
     "ename": "NameError",
     "evalue": "name 'nx' is not defined",
     "output_type": "error",
     "traceback": [
      "\u001b[1;31m---------------------------------------------------------------------------\u001b[0m",
      "\u001b[1;31mNameError\u001b[0m                                 Traceback (most recent call last)",
      "\u001b[1;32m<ipython-input-1-442dd145af2e>\u001b[0m in \u001b[0;36m<module>\u001b[1;34m\u001b[0m\n\u001b[1;32m----> 1\u001b[1;33m \u001b[0mg\u001b[0m \u001b[1;33m=\u001b[0m \u001b[0mnx\u001b[0m\u001b[1;33m.\u001b[0m\u001b[0mGraph\u001b[0m\u001b[1;33m(\u001b[0m\u001b[1;33m)\u001b[0m\u001b[1;33m\u001b[0m\u001b[1;33m\u001b[0m\u001b[0m\n\u001b[0m\u001b[0;32m      2\u001b[0m A = np.array([[0,1,2,3],\n\u001b[0;32m      3\u001b[0m               \u001b[1;33m[\u001b[0m\u001b[1;36m1\u001b[0m\u001b[1;33m,\u001b[0m\u001b[1;36m0\u001b[0m\u001b[1;33m,\u001b[0m\u001b[1;36m2\u001b[0m\u001b[1;33m,\u001b[0m\u001b[1;36m3\u001b[0m\u001b[1;33m]\u001b[0m\u001b[1;33m,\u001b[0m\u001b[1;33m\u001b[0m\u001b[1;33m\u001b[0m\u001b[0m\n\u001b[0;32m      4\u001b[0m               \u001b[1;33m[\u001b[0m\u001b[1;36m2\u001b[0m\u001b[1;33m,\u001b[0m\u001b[1;36m2\u001b[0m\u001b[1;33m,\u001b[0m\u001b[1;36m0\u001b[0m\u001b[1;33m,\u001b[0m\u001b[1;36m2\u001b[0m\u001b[1;33m]\u001b[0m\u001b[1;33m,\u001b[0m\u001b[1;33m\u001b[0m\u001b[1;33m\u001b[0m\u001b[0m\n\u001b[0;32m      5\u001b[0m               [3,3,2,0]])\n",
      "\u001b[1;31mNameError\u001b[0m: name 'nx' is not defined"
     ]
    }
   ],
   "source": [
    "\n",
    "g = nx.Graph()\n",
    "A = np.array([[0,1,2,3],\n",
    "              [1,0,2,3],\n",
    "              [2,2,0,2],\n",
    "              [3,3,2,0]])\n",
    "g = nx.from_numpy_matrix(A, create_using=nx.Graph)\n",
    "\n",
    "pos = nx.spring_layout(g)\n",
    "nx.draw(g, pos, with_labels=True)"
   ]
  },
  {
   "cell_type": "code",
   "execution_count": 4,
   "id": "greater-geography",
   "metadata": {},
   "outputs": [
    {
     "data": {
      "image/png": "[encoded data removed]",
      "text/plain": [
       "<Figure size 432x288 with 1 Axes>"
      ]
     },
     "metadata": {
      "needs_background": "light"
     },
     "output_type": "display_data"
    }
   ],
   "source": [
    "import numpy as np\n",
    "import matplotlib.pyplot as plt\n",
    "import matplotlib.cm as cm\n",
    "\n",
    "x = np.arange(10)\n",
    "ys = [i+x+(i*x)**2 for i in range(10)]\n",
    "\n",
    "colors = cm.rainbow(np.linspace(0, 1, len(ys)))\n",
    "for y, c in zip(ys, colors):\n",
    "    plt.scatter(x, y, color=c)"
   ]
  },
  {
   "cell_type": "code",
   "execution_count": 10,
   "id": "invalid-china",
   "metadata": {},
   "outputs": [
    {
     "data": {
      "text/plain": [
       "<matplotlib.legend.Legend at 0x23cb4d8d8c8>"
      ]
     },
     "execution_count": 10,
     "metadata": {},
     "output_type": "execute_result"
    },
    {
     "data": {
      "image/png": "[encoded data removed]",
      "text/plain": [
       "<Figure size 432x288 with 1 Axes>"
      ]
     },
     "metadata": {
      "needs_background": "light"
     },
     "output_type": "display_data"
    }
   ],
   "source": [
    "import matplotlib.pyplot as plt\n",
    "from random import randint\n",
    "import numpy as np\n",
    "\n",
    "#Let's generate some random X, Y data X = [ [frst group],[second group] ...]\n",
    "X = [ [randint(0,50) for i in range(0,5)] for i in range(0,10)]\n",
    "Y = [ [randint(0,50) for i in range(0,5)] for i in range(0,10)]\n",
    "labels = range(1,len(X)+1)\n",
    "\n",
    "fig = plt.figure()\n",
    "ax = fig.add_subplot(111)\n",
    "for x,y,lab in zip(X,Y,labels):\n",
    "        ax.scatter(x,y,label=lab)\n",
    "        \n",
    "#Now this is actually the code that you need, an easy fix your colors just cut and paste not you need ax.\n",
    "colormap = plt.cm.gist_ncar #nipy_spectral, Set1,Paired  \n",
    "colorst = [colormap(i) for i in np.linspace(0, 0.9,len(ax.collections))]       \n",
    "for t,j1 in enumerate(ax.collections):\n",
    "    j1.set_color(colorst[t])\n",
    "\n",
    "\n",
    "ax.legend(fontsize='small', , loc='upper left')        "
   ]
  }
 ],
 "metadata": {
  "kernelspec": {
   "display_name": "Python 3",
   "language": "python",
   "name": "python3"
  },
  "language_info": {
   "codemirror_mode": {
    "name": "ipython",
    "version": 3
   },
   "file_extension": ".py",
   "mimetype": "text/x-python",
   "name": "python",
   "nbconvert_exporter": "python",
   "pygments_lexer": "ipython3",
   "version": "3.7.10"
  }
 },
 "nbformat": 4,
 "nbformat_minor": 5
}
